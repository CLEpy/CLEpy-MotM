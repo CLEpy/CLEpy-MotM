{
 "cells": [
  {
   "cell_type": "markdown",
   "metadata": {
    "slideshow": {
     "slide_type": "slide"
    }
   },
   "source": [
    "# Tweepy\n",
    "\n",
    "*An easy-to-use Python library for accessing the Twitter API.*\n",
    "\n",
    "http://www.tweepy.org/"
   ]
  },
  {
   "cell_type": "markdown",
   "metadata": {
    "slideshow": {
     "slide_type": "slide"
    }
   },
   "source": [
    "## Installing\n",
    "\n",
    "`pip install tweepy`"
   ]
  },
  {
   "cell_type": "markdown",
   "metadata": {
    "slideshow": {
     "slide_type": "slide"
    }
   },
   "source": [
    "## Twitter App\n",
    "\n",
    "https://apps.twitter.com/\n",
    "\n",
    "Create an app and save:\n",
    "\n",
    "- Consumer key\n",
    "- Consumer secret\n",
    "- Access token\n",
    "- Access token secret\n",
    "\n"
   ]
  },
  {
   "cell_type": "markdown",
   "metadata": {
    "slideshow": {
     "slide_type": "subslide"
    }
   },
   "source": [
    "### Store Secrets Securely\n",
    "\n",
    "*Don't commit them to a public repo!*\n",
    "\n",
    "I set them via environment variables and then access via `os.environ`."
   ]
  },
  {
   "cell_type": "code",
   "execution_count": null,
   "metadata": {
    "collapsed": false,
    "slideshow": {
     "slide_type": "subslide"
    }
   },
   "outputs": [],
   "source": [
    "# Load keys, secrets, settings\n",
    "\n",
    "import os\n",
    "\n",
    "ENV = os.environ\n",
    "CONSUMER_KEY = ENV.get('IOTX_CONSUMER_KEY')\n",
    "CONSUMER_SECRET = ENV.get('IOTX_CONSUMER_SECRET')\n",
    "ACCESS_TOKEN = ENV.get('IOTX_ACCESS_TOKEN')\n",
    "ACCESS_TOKEN_SECRET = ENV.get('IOTX_ACCESS_TOKEN_SECRET')\n",
    "USERNAME = ENV.get('IOTX_USERNAME')\n",
    "USER_ID = ENV.get('IOTX_USER_ID')\n",
    "\n",
    "print(USERNAME)"
   ]
  },
  {
   "cell_type": "markdown",
   "metadata": {
    "slideshow": {
     "slide_type": "slide"
    }
   },
   "source": [
    "## Twitter APIs\n",
    "\n",
    "### REST vs Streaming\n",
    "\n",
    "https://dev.twitter.com/docs\n"
   ]
  },
  {
   "cell_type": "markdown",
   "metadata": {
    "slideshow": {
     "slide_type": "slide"
    }
   },
   "source": [
    "## Twitter REST API\n",
    "\n",
    "* Search\n",
    "* Tweet\n",
    "* Get information\n",
    "\n",
    "https://dev.twitter.com/rest/public"
   ]
  },
  {
   "cell_type": "code",
   "execution_count": null,
   "metadata": {
    "collapsed": false,
    "slideshow": {
     "slide_type": "slide"
    }
   },
   "outputs": [],
   "source": [
    "import tweepy\n",
    "\n",
    "auth = tweepy.OAuthHandler(CONSUMER_KEY, CONSUMER_SECRET)\n",
    "auth.set_access_token(ACCESS_TOKEN, ACCESS_TOKEN_SECRET)\n",
    "\n",
    "api = tweepy.API(auth)\n",
    "\n",
    "public_tweets = api.home_timeline(count=3) \n",
    "for tweet in public_tweets:\n",
    "    print(tweet.text)"
   ]
  },
  {
   "cell_type": "code",
   "execution_count": null,
   "metadata": {
    "collapsed": false,
    "scrolled": true,
    "slideshow": {
     "slide_type": "slide"
    }
   },
   "outputs": [],
   "source": [
    "# Models\n",
    "\n",
    "user = api.get_user('clepy')\n",
    "print(user.screen_name)\n",
    "print(dir(user))"
   ]
  },
  {
   "cell_type": "code",
   "execution_count": null,
   "metadata": {
    "collapsed": false,
    "slideshow": {
     "slide_type": "slide"
    }
   },
   "outputs": [],
   "source": [
    "# Tweet!\n",
    "status = api.update_status(\"I'm at @CLEPY!\")\n",
    "print(status.id)\n",
    "print(status.text)"
   ]
  },
  {
   "cell_type": "markdown",
   "metadata": {
    "collapsed": true,
    "slideshow": {
     "slide_type": "slide"
    }
   },
   "source": [
    "## Streaming API\n",
    "\n",
    "Real-time streaming of:\n",
    "\n",
    "* Searches\n",
    "* Mentions\n",
    "* Lists\n",
    "* Timeline\n",
    "\n",
    "https://dev.twitter.com/streaming/public"
   ]
  },
  {
   "cell_type": "code",
   "execution_count": null,
   "metadata": {
    "collapsed": false,
    "slideshow": {
     "slide_type": "slide"
    }
   },
   "outputs": [],
   "source": [
    "# Subclass StreamListener and define on_status method\n",
    "\n",
    "class MyStreamListener(tweepy.StreamListener):\n",
    "\n",
    "    def on_status(self, status):\n",
    "        print(\"@{0}: {1}\".format(status.author.screen_name, status.text))"
   ]
  },
  {
   "cell_type": "code",
   "execution_count": null,
   "metadata": {
    "collapsed": false,
    "slideshow": {
     "slide_type": "slide"
    }
   },
   "outputs": [],
   "source": [
    "myStream = tweepy.Stream(auth = api.auth, listener=MyStreamListener())"
   ]
  },
  {
   "cell_type": "code",
   "execution_count": null,
   "metadata": {
    "collapsed": false,
    "scrolled": true,
    "slideshow": {
     "slide_type": "slide"
    }
   },
   "outputs": [],
   "source": [
    "try:\n",
    "    myStream.filter(track=['#clepy'])\n",
    "except KeyboardInterrupt:\n",
    "    print('Interrupted...')\n",
    "except tweepy.error.TweepError:\n",
    "    myStream.disconnect()\n",
    "    print('Disconnected. Try again!')"
   ]
  },
  {
   "cell_type": "markdown",
   "metadata": {
    "slideshow": {
     "slide_type": "slide"
    }
   },
   "source": [
    "See also:\n",
    "\n",
    "\"Small Batch Artisanal Bots: Let's Make Friends\" by Elizabeth Uselton at PyCon & PyOhio\n",
    "\n",
    "https://www.youtube.com/watch?v=pDS_LWgjMgg"
   ]
  },
  {
   "cell_type": "code",
   "execution_count": null,
   "metadata": {
    "collapsed": true,
    "slideshow": {
     "slide_type": "slide"
    }
   },
   "outputs": [],
   "source": []
  }
 ],
 "metadata": {
  "celltoolbar": "Slideshow",
  "kernelspec": {
   "display_name": "Python 3",
   "language": "python",
   "name": "python3"
  },
  "language_info": {
   "codemirror_mode": {
    "name": "ipython",
    "version": 3
   },
   "file_extension": ".py",
   "mimetype": "text/x-python",
   "name": "python",
   "nbconvert_exporter": "python",
   "pygments_lexer": "ipython3",
   "version": "3.5.2"
  }
 },
 "nbformat": 4,
 "nbformat_minor": 1
}

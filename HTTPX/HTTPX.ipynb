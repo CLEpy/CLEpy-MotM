{
 "cells": [
  {
   "cell_type": "markdown",
   "metadata": {
    "slideshow": {
     "slide_type": "slide"
    }
   },
   "source": [
    "# HTTPX\n",
    "\n",
    "<img src=\"https://raw.githubusercontent.com/encode/httpx/master/docs/img/butterfly.png\" alt=\"HTTPX Logo\" style=\"width: 400px;\"/>\n",
    "\n",
    "https://www.python-httpx.org/\n",
    "\n",
    "*A next-generation HTTP client for Python.*\n",
    "\n",
    "HTTPX is a fully featured HTTP client for Python 3, which provides sync and async APIs, and support for both HTTP/1.1 and HTTP/2.\n",
    "\n",
    "Alternatives: `aiohttp`, `asks`"
   ]
  },
  {
   "cell_type": "code",
   "execution_count": 1,
   "metadata": {
    "slideshow": {
     "slide_type": "slide"
    }
   },
   "outputs": [],
   "source": [
    "from datetime import datetime"
   ]
  },
  {
   "cell_type": "markdown",
   "metadata": {
    "slideshow": {
     "slide_type": "fragment"
    }
   },
   "source": [
    "Using httpbin.org:\n",
    "\n",
    "`https://httpbin.org/delay/1`"
   ]
  },
  {
   "cell_type": "code",
   "execution_count": null,
   "metadata": {
    "slideshow": {
     "slide_type": "slide"
    }
   },
   "outputs": [],
   "source": [
    "import requests"
   ]
  },
  {
   "cell_type": "code",
   "execution_count": null,
   "metadata": {
    "slideshow": {
     "slide_type": "fragment"
    }
   },
   "outputs": [],
   "source": [
    "def requests_get(index=None):\n",
    "    response = requests.get(\"https://httpbin.org/delay/1\")\n",
    "    response.raise_for_status()\n",
    "    print(f\"{index} - {response.status_code} - {response.elapsed}\")"
   ]
  },
  {
   "cell_type": "code",
   "execution_count": null,
   "metadata": {
    "slideshow": {
     "slide_type": "fragment"
    }
   },
   "outputs": [],
   "source": [
    "requests_get()"
   ]
  },
  {
   "cell_type": "code",
   "execution_count": null,
   "metadata": {
    "slideshow": {
     "slide_type": "subslide"
    }
   },
   "outputs": [],
   "source": [
    "before = datetime.now()\n",
    "\n",
    "for index in range(0, 5):\n",
    "    requests_get(index)\n",
    "    \n",
    "after = datetime.now()\n",
    "print(f\"total time: {after - before}\")"
   ]
  },
  {
   "cell_type": "code",
   "execution_count": null,
   "metadata": {
    "slideshow": {
     "slide_type": "slide"
    }
   },
   "outputs": [],
   "source": [
    "import httpx"
   ]
  },
  {
   "cell_type": "code",
   "execution_count": null,
   "metadata": {
    "slideshow": {
     "slide_type": "fragment"
    }
   },
   "outputs": [],
   "source": [
    "def httpx_get(index=None):\n",
    "    response = httpx.get(\"https://httpbin.org/delay/1\")\n",
    "    response.raise_for_status()\n",
    "    print(f\"{index} - {response.status_code} - {response.elapsed}\")"
   ]
  },
  {
   "cell_type": "code",
   "execution_count": null,
   "metadata": {
    "slideshow": {
     "slide_type": "fragment"
    }
   },
   "outputs": [],
   "source": [
    "httpx_get()"
   ]
  },
  {
   "cell_type": "code",
   "execution_count": null,
   "metadata": {
    "slideshow": {
     "slide_type": "subslide"
    }
   },
   "outputs": [],
   "source": [
    "before = datetime.now()\n",
    "\n",
    "for index in range(0, 5):\n",
    "    httpx_get(index)\n",
    "    \n",
    "after = datetime.now()\n",
    "print(f\"total time: {after - before}\")"
   ]
  },
  {
   "cell_type": "code",
   "execution_count": null,
   "metadata": {
    "slideshow": {
     "slide_type": "slide"
    }
   },
   "outputs": [],
   "source": [
    "async with httpx.AsyncClient() as client:\n",
    "    response = await client.get('https://httpbin.org/delay/1')\n",
    "print(response)"
   ]
  },
  {
   "cell_type": "code",
   "execution_count": null,
   "metadata": {
    "slideshow": {
     "slide_type": "fragment"
    }
   },
   "outputs": [],
   "source": [
    "async def async_httpx_get(index=None):\n",
    "    async with httpx.AsyncClient() as client:\n",
    "        response = await client.get(\"https://httpbin.org/delay/1\")\n",
    "        response.raise_for_status()\n",
    "        print(f\"{index} - {response.status_code} - {response.elapsed}\")"
   ]
  },
  {
   "cell_type": "code",
   "execution_count": null,
   "metadata": {
    "slideshow": {
     "slide_type": "fragment"
    }
   },
   "outputs": [],
   "source": [
    "await async_httpx_get()"
   ]
  },
  {
   "cell_type": "code",
   "execution_count": null,
   "metadata": {
    "slideshow": {
     "slide_type": "subslide"
    }
   },
   "outputs": [],
   "source": [
    "before = datetime.now()\n",
    "\n",
    "for index in range(0, 5):\n",
    "    await async_httpx_get(index)\n",
    "    \n",
    "after = datetime.now()\n",
    "print(f\"total time: {after - before}\")"
   ]
  },
  {
   "cell_type": "code",
   "execution_count": null,
   "metadata": {
    "slideshow": {
     "slide_type": "subslide"
    }
   },
   "outputs": [],
   "source": [
    "many_gets = tuple(async_httpx_get(index) for index in range(0,5))"
   ]
  },
  {
   "cell_type": "code",
   "execution_count": null,
   "metadata": {
    "slideshow": {
     "slide_type": "fragment"
    }
   },
   "outputs": [],
   "source": [
    "import asyncio\n",
    "\n",
    "before = datetime.now()\n",
    "\n",
    "await asyncio.gather(*many_gets)\n",
    "\n",
    "after = datetime.now()\n",
    "print(f\"total time: {after - before}\")"
   ]
  },
  {
   "cell_type": "code",
   "execution_count": null,
   "metadata": {
    "slideshow": {
     "slide_type": "slide"
    }
   },
   "outputs": [],
   "source": [
    "semaphore = asyncio.Semaphore(3)\n",
    "\n",
    "async def async_semaphore_httpx_get(index=None):\n",
    "    async with semaphore:\n",
    "        async with httpx.AsyncClient() as client:\n",
    "            response = await client.get(\"https://httpbin.org/delay/1\")\n",
    "            response.raise_for_status()\n",
    "            print(f\"{index} - {response.status_code} - {response.elapsed}\")"
   ]
  },
  {
   "cell_type": "code",
   "execution_count": null,
   "metadata": {
    "slideshow": {
     "slide_type": "subslide"
    }
   },
   "outputs": [],
   "source": [
    "semaphore_many_gets = tuple(\n",
    "    async_semaphore_httpx_get(index) for index in range(0,10))"
   ]
  },
  {
   "cell_type": "code",
   "execution_count": null,
   "metadata": {
    "slideshow": {
     "slide_type": "fragment"
    }
   },
   "outputs": [],
   "source": [
    "before = datetime.now()\n",
    "\n",
    "await asyncio.gather(*semaphore_many_gets)\n",
    "\n",
    "after = datetime.now()\n",
    "print(f\"total time: {after - before}\")"
   ]
  },
  {
   "cell_type": "markdown",
   "metadata": {
    "slideshow": {
     "slide_type": "slide"
    }
   },
   "source": [
    "## Features\n",
    "\n",
    "HTTPX is a high performance asynchronous HTTP client, that builds on the well-established usability of requests, and gives you:\n",
    "\n",
    "- A broadly requests-compatible API.\n",
    "- Standard synchronous interface, but with async support if you need it.\n",
    "- HTTP/1.1 and HTTP/2 support.\n",
    "- Ability to make requests directly to WSGI applications or ASGI applications.\n",
    "- Strict timeouts everywhere.\n",
    "- Fully type annotated.\n",
    "- 100% test coverage.\n",
    "\n",
    "Plus all the standard features of requests..."
   ]
  },
  {
   "cell_type": "code",
   "execution_count": null,
   "metadata": {},
   "outputs": [],
   "source": []
  }
 ],
 "metadata": {
  "celltoolbar": "Slideshow",
  "kernelspec": {
   "display_name": "Python 3",
   "language": "python",
   "name": "python3"
  },
  "language_info": {
   "codemirror_mode": {
    "name": "ipython",
    "version": 3
   },
   "file_extension": ".py",
   "mimetype": "text/x-python",
   "name": "python",
   "nbconvert_exporter": "python",
   "pygments_lexer": "ipython3",
   "version": "3.8.5"
  }
 },
 "nbformat": 4,
 "nbformat_minor": 4
}

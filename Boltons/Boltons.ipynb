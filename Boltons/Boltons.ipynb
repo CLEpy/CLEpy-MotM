{
 "cells": [
  {
   "cell_type": "markdown",
   "metadata": {
    "slideshow": {
     "slide_type": "slide"
    }
   },
   "source": [
    "# Boltons\n",
    "\n",
    "*Like builtins, but boltons. Constructs/recipes/snippets that would be handy in the standard library. Nothing like Michael Bolton.*\n",
    "\n",
    "https://boltons.readthedocs.org"
   ]
  },
  {
   "cell_type": "markdown",
   "metadata": {
    "slideshow": {
     "slide_type": "subslide"
    }
   },
   "source": [
    "Boltons is a set of pure-Python utilities in the same spirit as — and yet conspicuously missing from — the standard library, including:\n",
    "\n",
    "- Atomic file saving, bolted on with `fileutils`\n",
    "- A highly-optimized `OrderedMultiDict`, in `dictutils`\n",
    "- Two types of `PriorityQueue`, in `queueutils`\n",
    "- Chunked and windowed iteration, in `iterutils`\n",
    "- A full-featured `TracebackInfo` type, for representing stack traces, in `tbutils`\n",
    "- A lightweight UTC timezone available in `timeutils`.\n",
    "- Recursive mapping for nested data transforms, with `remap`"
   ]
  },
  {
   "cell_type": "markdown",
   "metadata": {
    "slideshow": {
     "slide_type": "slide"
    }
   },
   "source": [
    "## Installing\n",
    "\n",
    "`pip install boltons`\n",
    "\n",
    "*Boltons is tested against Python 2.6, 2.7, 3.4, 3.5, and PyPy.*"
   ]
  },
  {
   "cell_type": "markdown",
   "metadata": {
    "slideshow": {
     "slide_type": "slide"
    }
   },
   "source": [
    "## Good Enough\n",
    "\n",
    "* Cover basic use\n",
    "* Docs recommend 3rd-party libraries\n"
   ]
  },
  {
   "cell_type": "markdown",
   "metadata": {
    "slideshow": {
     "slide_type": "subslide"
    }
   },
   "source": [
    "## Architecture\n",
    "\n",
    "- Pure Python\n",
    "- No dependencies\n",
    "- Self-contained\n",
    "- Many `utils.py` can be copied\n",
    "- Themed-packages"
   ]
  },
  {
   "cell_type": "code",
   "execution_count": null,
   "metadata": {
    "collapsed": true,
    "slideshow": {
     "slide_type": "slide"
    }
   },
   "outputs": [],
   "source": [
    "# Some imports used in examples\n",
    "import time\n",
    "from datetime import datetime\n",
    "from pprint import pprint"
   ]
  },
  {
   "cell_type": "markdown",
   "metadata": {
    "slideshow": {
     "slide_type": "slide"
    }
   },
   "source": [
    "## Caching - `cacheutils`\n",
    "\n",
    "* `LRI` least-recently inserted\n",
    "* `LRU` least-recently used\n",
    "* `cached` and `cachedmethod` decorators"
   ]
  },
  {
   "cell_type": "code",
   "execution_count": null,
   "metadata": {
    "collapsed": false,
    "slideshow": {
     "slide_type": "subslide"
    }
   },
   "outputs": [],
   "source": [
    "from boltons.cacheutils import cached, LRU\n",
    "my_cache = LRU(max_size=10)\n",
    "\n",
    "@cached(my_cache)\n",
    "def expensive(n=1):\n",
    "    print(datetime.now())\n",
    "    time.sleep(n)\n",
    "    return n"
   ]
  },
  {
   "cell_type": "code",
   "execution_count": null,
   "metadata": {
    "collapsed": false,
    "scrolled": true
   },
   "outputs": [],
   "source": [
    "print(expensive(2))"
   ]
  },
  {
   "cell_type": "code",
   "execution_count": null,
   "metadata": {
    "collapsed": false
   },
   "outputs": [],
   "source": [
    "print(expensive(1))"
   ]
  },
  {
   "cell_type": "code",
   "execution_count": null,
   "metadata": {
    "collapsed": false
   },
   "outputs": [],
   "source": [
    "print(expensive(2))"
   ]
  },
  {
   "cell_type": "markdown",
   "metadata": {
    "slideshow": {
     "slide_type": "slide"
    }
   },
   "source": [
    "## Mappings - `dictutils`\n",
    "\n",
    "- `OrderedMultiDict` - ordered dict + methods\n",
    "    - Counter functionality\n",
    "    - `.inverted()`\n",
    "    - Support for `reversed()`"
   ]
  },
  {
   "cell_type": "code",
   "execution_count": null,
   "metadata": {
    "collapsed": false,
    "slideshow": {
     "slide_type": "subslide"
    }
   },
   "outputs": [],
   "source": [
    "from boltons.dictutils import OrderedMultiDict\n",
    "\n",
    "omd = OrderedMultiDict()\n",
    "omd['a'] = 1\n",
    "omd['b'] = 2\n",
    "print(omd)"
   ]
  },
  {
   "cell_type": "code",
   "execution_count": null,
   "metadata": {
    "collapsed": false
   },
   "outputs": [],
   "source": [
    "omd.add('a', 3)\n",
    "print(omd)"
   ]
  },
  {
   "cell_type": "code",
   "execution_count": null,
   "metadata": {
    "collapsed": false
   },
   "outputs": [],
   "source": [
    "print(omd.get('a'))\n",
    "print(omd.getlist('a'))"
   ]
  },
  {
   "cell_type": "code",
   "execution_count": null,
   "metadata": {
    "collapsed": false
   },
   "outputs": [],
   "source": [
    "print(list(omd))\n",
    "print(list(reversed(omd)))"
   ]
  },
  {
   "cell_type": "markdown",
   "metadata": {
    "slideshow": {
     "slide_type": "slide"
    }
   },
   "source": [
    "## Runtime Ecosystem - `ecoutils`\n",
    "\n",
    "- Executable runtime\n",
    "- Language version\n",
    "- Host OS\n",
    "- OS Features\n",
    "- Built-in libraries (OpenSSL, SQLite, etc.)\n",
    "- Machine info"
   ]
  },
  {
   "cell_type": "code",
   "execution_count": null,
   "metadata": {
    "collapsed": false,
    "scrolled": true,
    "slideshow": {
     "slide_type": "subslide"
    }
   },
   "outputs": [],
   "source": [
    "from boltons.ecoutils import get_profile\n",
    "print(get_profile().keys())"
   ]
  },
  {
   "cell_type": "code",
   "execution_count": null,
   "metadata": {
    "collapsed": false
   },
   "outputs": [],
   "source": [
    "pprint(get_profile()['python']['features'])"
   ]
  },
  {
   "cell_type": "markdown",
   "metadata": {
    "slideshow": {
     "slide_type": "slide"
    }
   },
   "source": [
    "## Filesystem Helpers - `fileutils`\n",
    "\n",
    "- Atomic file saving\n",
    "- File permissions"
   ]
  },
  {
   "cell_type": "markdown",
   "metadata": {
    "slideshow": {
     "slide_type": "slide"
    }
   },
   "source": [
    "## `functools` improvements - `funcutils`\n",
    "\n",
    "- `wraps` modeled after `functools.wraps`\n",
    "  - Retains original signature\n",
    "- Improved `partial`\n",
    "- Metaprogramming"
   ]
  },
  {
   "cell_type": "markdown",
   "metadata": {
    "slideshow": {
     "slide_type": "slide"
    }
   },
   "source": [
    "## `itertools` imporovements - `iterutils`\n",
    "\n",
    "- `.split()` - like `str.split()` for iterables\n",
    "- `chunked()` - get chunks of iterables\n",
    "- `bucketize()` - categorize iterable values\n",
    "- More!"
   ]
  },
  {
   "cell_type": "markdown",
   "metadata": {
    "collapsed": false,
    "slideshow": {
     "slide_type": "slide"
    }
   },
   "source": [
    "## Math helpers - `mathutils`\n",
    "\n",
    "- `clamp`\n",
    "- `ceil`\n",
    "- `floor`"
   ]
  },
  {
   "cell_type": "markdown",
   "metadata": {
    "collapsed": false,
    "slideshow": {
     "slide_type": "slide"
    }
   },
   "source": [
    "## Queues - `queueutils`\n",
    "\n",
    "- Priority queues\n",
    "- Variations (on sorting)"
   ]
  },
  {
   "cell_type": "code",
   "execution_count": null,
   "metadata": {
    "collapsed": false,
    "slideshow": {
     "slide_type": "subslide"
    }
   },
   "outputs": [],
   "source": [
    "from boltons.queueutils import PriorityQueue\n",
    "pq = PriorityQueue()"
   ]
  },
  {
   "cell_type": "code",
   "execution_count": null,
   "metadata": {
    "collapsed": false
   },
   "outputs": [],
   "source": [
    "pq.add('low priority', 0)\n",
    "pq.add('hi priority', 2)\n",
    "pq.add('medium priority a', 1)\n",
    "pq.add('medium priority b', 1)\n",
    "print(len(pq))"
   ]
  },
  {
   "cell_type": "code",
   "execution_count": null,
   "metadata": {
    "collapsed": false
   },
   "outputs": [],
   "source": [
    "while pq:\n",
    "    print(pq.pop())"
   ]
  },
  {
   "cell_type": "markdown",
   "metadata": {
    "slideshow": {
     "slide_type": "slide"
    }
   },
   "source": [
    "## Statistics basics - `statsutils`\n",
    "\n",
    "- `mean()`\n",
    "- `median()`\n",
    "- `variance()`\n",
    "- Other basic helpers "
   ]
  },
  {
   "cell_type": "markdown",
   "metadata": {
    "slideshow": {
     "slide_type": "slide"
    }
   },
   "source": [
    "## Text manipulation - `strutils`\n",
    "\n",
    "- Camel-casing\n",
    "- `slugify()`\n",
    "- `ordinalize()`\n",
    "- `cardinalize()`\n",
    "- `pluralize()`\n",
    "- ASCII, HTML, ANSI, etc."
   ]
  },
  {
   "cell_type": "markdown",
   "metadata": {
    "slideshow": {
     "slide_type": "slide"
    }
   },
   "source": [
    "## Others\n",
    "\n",
    "- `debugutils` - Debugging help\n",
    "- `formatutils` - String formatting\n",
    "- `gcutils` - Garbage collection\n",
    "- `ioutils` - Spooled IO\n",
    "- `jsonutils` - JSON helpers\n",
    "- `listutils` - Special list types\n",
    "- `namedutils` - Simple containers\n",
    "- ...\n"
   ]
  },
  {
   "cell_type": "markdown",
   "metadata": {
    "slideshow": {
     "slide_type": "subslide"
    }
   },
   "source": [
    "## Others (contd.)\n",
    "\n",
    "- ...\n",
    "- `setutils` - Set ordered list-set hybrid\n",
    "- `socketutils` - `socket` wrappers\n",
    "- `tableutils` - 2D data structures\n",
    "- `tbutils` - Tracebacks and call stacks\n",
    "- `timeutils` - `datetime` additions\n",
    "- `typeutils` - Type handling"
   ]
  }
 ],
 "metadata": {
  "celltoolbar": "Slideshow",
  "kernelspec": {
   "display_name": "Python 3",
   "language": "python",
   "name": "python3"
  },
  "language_info": {
   "codemirror_mode": {
    "name": "ipython",
    "version": 3
   },
   "file_extension": ".py",
   "mimetype": "text/x-python",
   "name": "python",
   "nbconvert_exporter": "python",
   "pygments_lexer": "ipython3",
   "version": "3.5.2"
  },
  "livereveal": {
   "scroll": "true"
  }
 },
 "nbformat": 4,
 "nbformat_minor": 0
}

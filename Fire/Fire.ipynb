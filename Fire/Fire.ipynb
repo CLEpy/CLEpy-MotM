{
 "cells": [
  {
   "cell_type": "markdown",
   "metadata": {
    "deletable": true,
    "editable": true,
    "slideshow": {
     "slide_type": "slide"
    }
   },
   "source": [
    "# Fire\n",
    "\n",
    "*Python Fire is a library for creating command line interfaces (CLIs) from absolutely any Python object.*\n",
    "\n",
    "https://github.com/google/python-fire"
   ]
  },
  {
   "cell_type": "markdown",
   "metadata": {
    "deletable": true,
    "editable": true,
    "slideshow": {
     "slide_type": "subslide"
    }
   },
   "source": [
    "- Simple CLI generation\n",
    "- Debugging help\n",
    "- Exploring code\n",
    "- Interactive REPL"
   ]
  },
  {
   "cell_type": "markdown",
   "metadata": {
    "deletable": true,
    "editable": true,
    "slideshow": {
     "slide_type": "slide"
    }
   },
   "source": [
    "## Installing\n",
    "\n",
    "`pip install fire`\n",
    "\n",
    "*Fire is tested against Python 2.7, 3.4, 3.5, 3.6.*"
   ]
  },
  {
   "cell_type": "markdown",
   "metadata": {
    "collapsed": false,
    "deletable": true,
    "editable": true,
    "slideshow": {
     "slide_type": "slide"
    }
   },
   "source": [
    "```python\n",
    "import fire\n",
    "\n",
    "class Calculator(object):\n",
    "    \"\"\"A simple calculator.\"\"\"\n",
    "    \n",
    "    def double(self, number):\n",
    "        return 2 * number\n",
    "\n",
    "if __name__ == '__main__':\n",
    "    fire.Fire(Calculator)\n",
    "```"
   ]
  },
  {
   "cell_type": "markdown",
   "metadata": {
    "deletable": true,
    "editable": true,
    "slideshow": {
     "slide_type": "slide"
    }
   },
   "source": [
    "## Example\n",
    "\n",
    "```\n",
    "python calculator.py double 10  # 20\n",
    "python calculator.py double --number=15  # 30\n",
    "```"
   ]
  },
  {
   "cell_type": "markdown",
   "metadata": {
    "deletable": true,
    "editable": true,
    "slideshow": {
     "slide_type": "slide"
    }
   },
   "source": [
    "| Creating a CLI | Command                | Notes\n",
    "| :--------------| :--------------------- | :---------\n",
    "| import         | `import fire`          | -\n",
    "| Call           | `fire.Fire()`          | Turns the current module into a Fire CLI.\n",
    "| Call           | `fire.Fire(component)` | Turns `component` into a Fire CLI.\n"
   ]
  },
  {
   "cell_type": "markdown",
   "metadata": {
    "deletable": true,
    "editable": true,
    "slideshow": {
     "slide_type": "slide"
    }
   },
   "source": [
    "| Using a CLI    | Command                    | Notes\n",
    "| :------------- | :------------------------- | :---------\n",
    "| [Help](doc/using-cli.md#help-flag) | `command -- --help` | -\n",
    "| [REPL](doc/using-cli.md#interactive-flag) | `command -- --interactive` | Interactive mode.\n",
    "| [Separator](doc/using-cli.md#separator-flag) | `command -- --separator=X` | sets the separator\n"
   ]
  },
  {
   "cell_type": "markdown",
   "metadata": {
    "slideshow": {
     "slide_type": "subslide"
    }
   },
   "source": [
    "| Using a CLI    | Command                    | Notes\n",
    "| :------------- | :------------------------- | :---------\n",
    "| [Completion](doc/using-cli.md#completion-flag) | `command -- --completion` | Completion script\n",
    "| [Trace](doc/using-cli.md#trace-flag) | `command -- --trace` | Trace the command.\n",
    "| [Verbose](doc/using-cli.md#verbose-flag) | `command -- --verbose` | -\n",
    "\n",
    "_Note that flags are separated from the Fire command by an isolated `--` arg._"
   ]
  },
  {
   "cell_type": "markdown",
   "metadata": {
    "deletable": true,
    "editable": true,
    "slideshow": {
     "slide_type": "subslide"
    }
   },
   "source": [
    "*See example `.py` files in the same dir as this notebook.*"
   ]
  }
 ],
 "metadata": {
  "celltoolbar": "Slideshow",
  "kernelspec": {
   "display_name": "Python 3",
   "language": "python",
   "name": "python3"
  },
  "language_info": {
   "codemirror_mode": {
    "name": "ipython",
    "version": 3
   },
   "file_extension": ".py",
   "mimetype": "text/x-python",
   "name": "python",
   "nbconvert_exporter": "python",
   "pygments_lexer": "ipython3",
   "version": "3.5.2"
  },
  "livereveal": {
   "scroll": "true"
  }
 },
 "nbformat": 4,
 "nbformat_minor": 0
}

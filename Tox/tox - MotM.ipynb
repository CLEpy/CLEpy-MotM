{
 "cells": [
  {
   "cell_type": "markdown",
   "metadata": {
    "slideshow": {
     "slide_type": "slide"
    }
   },
   "source": [
    "Tox"
   ]
  },
  {
   "cell_type": "markdown",
   "metadata": {
    "slideshow": {
     "slide_type": "slide"
    }
   },
   "source": [
    "- what is tox\n",
    "    - test standardization and automation tool\n",
    "    - runs unit || end-to-end tests (command line)\n",
    "    - checks compatibility for multiple versions of python\n",
    "    - highly configurable"
   ]
  },
  {
   "cell_type": "markdown",
   "metadata": {
    "slideshow": {
     "slide_type": "slide"
    }
   },
   "source": [
    "- Installation\n",
    "    - pip install tox\n",
    "    - (or \"pipsi install tox\" if you prefer to be fancy)"
   ]
  },
  {
   "cell_type": "markdown",
   "metadata": {
    "slideshow": {
     "slide_type": "slide"
    }
   },
   "source": [
    "- how do you use tox\n",
    "    - Shell Command \"tox\" from package root folder containing \"tox.ini\"\n",
    "    - tox-quickstart (for seting up tox in a project)\n",
    "    - tox.ini - for storing tox configurations"
   ]
  },
  {
   "cell_type": "markdown",
   "metadata": {
    "slideshow": {
     "slide_type": "slide"
    }
   },
   "source": [
    "- Why is this cool?\n",
    "    - by itself a simple, configurable test runner\n",
    "    - can run tests against current, previous and future pythons - super helpful when considering an upgrade\n",
    "    - configuration file for all settings - this helps streamline automation"
   ]
  },
  {
   "cell_type": "markdown",
   "metadata": {
    "slideshow": {
     "slide_type": "slide"
    }
   },
   "source": [
    "- But it’s so fancy\n",
    "    - Creating a new environment per python version\n",
    "    - installing packages to that env\n",
    "    - running available tests\n",
    "    - all happening under the hood - based on package configuration\n",
    "    - no cleanup or build work - tox does this for you"
   ]
  },
  {
   "cell_type": "markdown",
   "metadata": {
    "slideshow": {
     "slide_type": "slide"
    }
   },
   "source": [
    "- Other cool things tox does\n",
    "    - whitelist non-virtualenv commands\n",
    "    - supports installing from multiple PyPI servers\n",
    "    - forced re-build of virtual environments\n",
    "    - setting environment variables\n",
    "    - spreading tests to multiple CPUs\n",
    "    - integration with sphinx documentation checks"
   ]
  }
 ],
 "metadata": {
  "celltoolbar": "Slideshow",
  "kernelspec": {
   "display_name": "Python 3",
   "language": "python",
   "name": "python3"
  },
  "language_info": {
   "codemirror_mode": {
    "name": "ipython",
    "version": 3
   },
   "file_extension": ".py",
   "mimetype": "text/x-python",
   "name": "python",
   "nbconvert_exporter": "python",
   "pygments_lexer": "ipython3",
   "version": "3.6.1"
  }
 },
 "nbformat": 4,
 "nbformat_minor": 2
}

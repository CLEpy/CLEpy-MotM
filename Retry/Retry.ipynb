{
 "cells": [
  {
   "cell_type": "code",
   "execution_count": 1,
   "metadata": {
    "collapsed": true,
    "slideshow": {
     "slide_type": "slide"
    }
   },
   "outputs": [],
   "source": [
    "import retry\n",
    "import requests\n",
    "import random\n",
    "import sys"
   ]
  },
  {
   "cell_type": "code",
   "execution_count": 2,
   "metadata": {
    "collapsed": true,
    "slideshow": {
     "slide_type": "slide"
    }
   },
   "outputs": [],
   "source": [
    "class UnreliableException(Exception):\n",
    "    def __init__(self, message):\n",
    "        self.message = message\n",
    "        \n",
    "    def _render_traceback_(self):\n",
    "        return ['UnreliableException: ' + self.message]\n",
    "\n",
    "    \n",
    "class ControlFlowException(Exception):\n",
    "    def __init__(self, message):\n",
    "        self.message = message\n",
    "        \n",
    "    def _render_traceback_(self):\n",
    "        return ['ControlFlowException: ' + self.message]\n"
   ]
  },
  {
   "cell_type": "code",
   "execution_count": 3,
   "metadata": {
    "slideshow": {
     "slide_type": "slide"
    }
   },
   "outputs": [
    {
     "data": {
      "text/plain": [
       "<Response [200]>"
      ]
     },
     "execution_count": 3,
     "metadata": {},
     "output_type": "execute_result"
    }
   ],
   "source": [
    "def make_unreliable_request():\n",
    "    if 0 == random.choice(range(2)):\n",
    "        return requests.get('https://blockchain.info/tobtc?currency=USD&value=500')\n",
    "    else:\n",
    "        raise UnreliableException(\"Things don't always go the way you want \")\n",
    "\n",
    "make_unreliable_request()"
   ]
  },
  {
   "cell_type": "code",
   "execution_count": 4,
   "metadata": {
    "slideshow": {
     "slide_type": "slide"
    }
   },
   "outputs": [
    {
     "ename": "UnreliableException",
     "evalue": "Things don't always go the way you want ",
     "output_type": "error",
     "traceback": [
      "UnreliableException: Things don't always go the way you want "
     ]
    }
   ],
   "source": [
    "make_unreliable_request()"
   ]
  },
  {
   "cell_type": "code",
   "execution_count": 5,
   "metadata": {
    "slideshow": {
     "slide_type": "slide"
    }
   },
   "outputs": [
    {
     "data": {
      "text/plain": [
       "<Response [200]>"
      ]
     },
     "execution_count": 5,
     "metadata": {},
     "output_type": "execute_result"
    }
   ],
   "source": [
    "@retry.retry()\n",
    "def reliable_request():\n",
    "    return make_unreliable_request()\n",
    "\n",
    "reliable_request()"
   ]
  },
  {
   "cell_type": "code",
   "execution_count": 8,
   "metadata": {
    "slideshow": {
     "slide_type": "slide"
    }
   },
   "outputs": [
    {
     "data": {
      "text/plain": [
       "<Response [200]>"
      ]
     },
     "execution_count": 8,
     "metadata": {},
     "output_type": "execute_result"
    }
   ],
   "source": [
    "def make_unreliable_request2():\n",
    "    if 0 == random.choice(range(2)):\n",
    "        return requests.get('https://blockchain.info/tobtc?currency=USD&value=500')\n",
    "    else:\n",
    "        if random.choice(range(2)) == 0:\n",
    "            raise UnreliableException(\"Things don't always go the way you want \")\n",
    "        else:\n",
    "            raise ControlFlowException(\"Bubble me up Scotty\")\n",
    "\n",
    "\n",
    "@retry.retry(UnreliableException)\n",
    "def reliable_request2():\n",
    "    return make_unreliable_request2()\n",
    "reliable_request2()"
   ]
  },
  {
   "cell_type": "code",
   "execution_count": 12,
   "metadata": {
    "slideshow": {
     "slide_type": "slide"
    }
   },
   "outputs": [
    {
     "ename": "ControlFlowException",
     "evalue": "Bubble me up Scotty",
     "output_type": "error",
     "traceback": [
      "ControlFlowException: Bubble me up Scotty"
     ]
    }
   ],
   "source": [
    "reliable_request2()\n",
    "\n",
    "\n",
    "\n",
    "\n",
    "\n"
   ]
  },
  {
   "cell_type": "code",
   "execution_count": 14,
   "metadata": {
    "slideshow": {
     "slide_type": "slide"
    }
   },
   "outputs": [
    {
     "name": "stderr",
     "output_type": "stream",
     "text": [
      "WARNING:retry.api:Things don't always go the way you want , retrying in 1 seconds...\n",
      "WARNING:retry.api:Things don't always go the way you want , retrying in 2 seconds...\n",
      "WARNING:retry.api:Things don't always go the way you want , retrying in 4 seconds...\n"
     ]
    },
    {
     "data": {
      "text/plain": [
       "<Response [200]>"
      ]
     },
     "execution_count": 14,
     "metadata": {},
     "output_type": "execute_result"
    }
   ],
   "source": [
    "import logging\n",
    "logging.basicConfig()\n",
    "\n",
    "def make_unreliable_request3():\n",
    "    choice = random.choice(range(4))\n",
    "    if 0 == choice:\n",
    "        return requests.get('https://blockchain.info/tobtc?currency=USD&value=500')\n",
    "    else:\n",
    "        raise UnreliableException(\"Things don't always go the way you want \")\n",
    "\n",
    "@retry.retry(UnreliableException, delay=1, backoff=2)\n",
    "def reliable_request():\n",
    "    return make_unreliable_request3()\n",
    "\n",
    "reliable_request()"
   ]
  },
  {
   "cell_type": "code",
   "execution_count": 16,
   "metadata": {
    "slideshow": {
     "slide_type": "slide"
    }
   },
   "outputs": [
    {
     "name": "stderr",
     "output_type": "stream",
     "text": [
      "WARNING:retry.api:Things don't always go the way you want , retrying in 1 seconds...\n",
      "WARNING:retry.api:Things don't always go the way you want , retrying in 2 seconds...\n",
      "WARNING:retry.api:Things don't always go the way you want , retrying in 4 seconds...\n",
      "WARNING:retry.api:Things don't always go the way you want , retrying in 8 seconds...\n"
     ]
    },
    {
     "data": {
      "text/plain": [
       "<Response [200]>"
      ]
     },
     "execution_count": 16,
     "metadata": {},
     "output_type": "execute_result"
    }
   ],
   "source": [
    "reliable_request()"
   ]
  },
  {
   "cell_type": "code",
   "execution_count": null,
   "metadata": {
    "collapsed": true
   },
   "outputs": [],
   "source": []
  }
 ],
 "metadata": {
  "celltoolbar": "Slideshow",
  "kernelspec": {
   "display_name": "Python 3",
   "language": "python",
   "name": "python3"
  },
  "language_info": {
   "codemirror_mode": {
    "name": "ipython",
    "version": 3
   },
   "file_extension": ".py",
   "mimetype": "text/x-python",
   "name": "python",
   "nbconvert_exporter": "python",
   "pygments_lexer": "ipython3",
   "version": "3.6.3"
  }
 },
 "nbformat": 4,
 "nbformat_minor": 2
}

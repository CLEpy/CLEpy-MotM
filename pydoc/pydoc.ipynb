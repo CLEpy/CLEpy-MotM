{
 "cells": [
  {
   "cell_type": "markdown",
   "metadata": {
    "slideshow": {
     "slide_type": "slide"
    }
   },
   "source": [
    "# [pydoc](https://docs.python.org/3.7/library/pydoc.html)\n",
    "\n",
    "## CLEPY - September Module of the month\n",
    "### Anurag Saxena\n",
    "### [@_asaxena](https://twitter.com/_asaxena)"
   ]
  },
  {
   "cell_type": "markdown",
   "metadata": {
    "slideshow": {
     "slide_type": "slide"
    }
   },
   "source": [
    "- pydoc is a builtin python module\n",
    "- nothing to install\n",
    "- automatically generates documentation from python modules"
   ]
  },
  {
   "cell_type": "markdown",
   "metadata": {
    "collapsed": true,
    "slideshow": {
     "slide_type": "slide"
    }
   },
   "source": [
    "Example"
   ]
  },
  {
   "cell_type": "code",
   "execution_count": 9,
   "metadata": {
    "slideshow": {
     "slide_type": "slide"
    }
   },
   "outputs": [
    {
     "name": "stdout",
     "output_type": "stream",
     "text": [
      "Help on package requests:\r\n",
      "\r\n",
      "N\bNA\bAM\bME\bE\r\n",
      "    requests\r\n",
      "\r\n",
      "D\bDE\bES\bSC\bCR\bRI\bIP\bPT\bTI\bIO\bON\bN\r\n",
      "    Requests HTTP Library\r\n",
      "    ~~~~~~~~~~~~~~~~~~~~~\r\n",
      "    \r\n",
      "    Requests is an HTTP library, written in Python, for human beings. Basic GET\r\n",
      "    usage:\r\n",
      "    \r\n",
      "       >>> import requests\r\n",
      "       >>> r = requests.get('https://www.python.org')\r\n",
      "       >>> r.status_code\r\n",
      "       200\r\n",
      "       >>> 'Python is a programming language' in r.content\r\n",
      "       True\r\n",
      "    \r\n",
      "    ... or POST:\r\n",
      "    \r\n",
      "       >>> payload = dict(key1='value1', key2='value2')\r\n",
      "       >>> r = requests.post('http://httpbin.org/post', data=payload)\r\n",
      "       >>> print(r.text)\r\n",
      "       {\r\n",
      "         ...\r\n",
      "         \"form\": {\r\n",
      "           \"key2\": \"value2\",\r\n",
      "           \"key1\": \"value1\"\r\n",
      "         },\r\n",
      "         ...\r\n",
      "       }\r\n",
      "    \r\n",
      "    The other HTTP methods are supported - see `requests.api`. Full documentation\r\n",
      "    is at <http://python-requests.org>.\r\n",
      "    \r\n",
      "    :copyright: (c) 2017 by Kenneth Reitz.\r\n",
      "    :license: Apache 2.0, see LICENSE for more details.\r\n",
      "\r\n",
      "P\bPA\bAC\bCK\bKA\bAG\bGE\bE \b C\bCO\bON\bNT\bTE\bEN\bNT\bTS\bS\r\n",
      "    __version__\r\n",
      "    _internal_utils\r\n",
      "    adapters\r\n",
      "    api\r\n",
      "    auth\r\n",
      "    certs\r\n",
      "    compat\r\n",
      "    cookies\r\n",
      "    exceptions\r\n",
      "    help\r\n",
      "    hooks\r\n",
      "    models\r\n",
      "    packages\r\n",
      "    sessions\r\n",
      "    status_codes\r\n",
      "    structures\r\n",
      "    utils\r\n",
      "\r\n",
      "F\bFU\bUN\bNC\bCT\bTI\bIO\bON\bNS\bS\r\n",
      "    c\bch\bhe\bec\bck\bk_\b_c\bco\bom\bmp\bpa\bat\bti\bib\bbi\bil\bli\bit\bty\by(urllib3_version, chardet_version)\r\n",
      "\r\n",
      "D\bDA\bAT\bTA\bA\r\n",
      "    _\b__\b_a\bau\but\bth\bho\bor\br_\b_e\bem\bma\bai\bil\bl_\b__\b_ = 'me@kennethreitz.org'\r\n",
      "    _\b__\b_b\bbu\bui\bil\bld\bd_\b__\b_ = 137473\r\n",
      "    _\b__\b_c\bca\bak\bke\be_\b__\b_ = '✨ 🍰 ✨'\r\n",
      "    _\b__\b_c\bco\bop\bpy\byr\bri\big\bgh\bht\bt_\b__\b_ = 'Copyright 2018 Kenneth Reitz'\r\n",
      "    _\b__\b_d\bde\bes\bsc\bcr\bri\bip\bpt\bti\bio\bon\bn_\b__\b_ = 'Python HTTP for Humans.'\r\n",
      "    _\b__\b_l\bli\bic\bce\ben\bns\bse\be_\b__\b_ = 'Apache 2.0'\r\n",
      "    _\b__\b_t\bti\bit\btl\ble\be_\b__\b_ = 'requests'\r\n",
      "    _\b__\b_u\bur\brl\bl_\b__\b_ = 'http://python-requests.org'\r\n",
      "    c\bco\bod\bde\bes\bs = <lookup 'status_codes'>\r\n",
      "\r\n",
      "V\bVE\bER\bRS\bSI\bIO\bON\bN\r\n",
      "    2.19.1\r\n",
      "\r\n",
      "A\bAU\bUT\bTH\bHO\bOR\bR\r\n",
      "    Kenneth Reitz\r\n",
      "\r\n",
      "F\bFI\bIL\bLE\bE\r\n",
      "    /usr/local/lib/python3.7/site-packages/requests/__init__.py\r\n",
      "\r\n",
      "\r\n"
     ]
    }
   ],
   "source": [
    "! pydoc3 requests"
   ]
  },
  {
   "cell_type": "markdown",
   "metadata": {
    "collapsed": true,
    "slideshow": {
     "slide_type": "slide"
    }
   },
   "source": [
    "It essentially pulls out docstrings and presents them as documentation\n",
    "[link](https://github.com/requests/requests/blob/master/requests/__init__.py)"
   ]
  },
  {
   "cell_type": "markdown",
   "metadata": {
    "slideshow": {
     "slide_type": "slide"
    }
   },
   "source": [
    "If there are no docstrings, pydoc will try an obtain the comment block that is right above the class, function, or method definition in the source file, or at the top of the module (`__init__.py`)"
   ]
  },
  {
   "cell_type": "markdown",
   "metadata": {
    "slideshow": {
     "slide_type": "slide"
    }
   },
   "source": [
    "Back to requests"
   ]
  },
  {
   "cell_type": "markdown",
   "metadata": {
    "slideshow": {
     "slide_type": "slide"
    }
   },
   "source": [
    "BTW I am using `pydoc3` instead of `pydoc` because I have two version of python running (2.7 and 3.7)"
   ]
  },
  {
   "cell_type": "code",
   "execution_count": 10,
   "metadata": {
    "slideshow": {
     "slide_type": "slide"
    }
   },
   "outputs": [
    {
     "name": "stdout",
     "output_type": "stream",
     "text": [
      "Help on package requests:\r\n",
      "\r\n",
      "N\bNA\bAM\bME\bE\r\n",
      "    requests\r\n",
      "\r\n",
      "D\bDE\bES\bSC\bCR\bRI\bIP\bPT\bTI\bIO\bON\bN\r\n",
      "    Requests HTTP Library\r\n",
      "    ~~~~~~~~~~~~~~~~~~~~~\r\n",
      "    \r\n",
      "    Requests is an HTTP library, written in Python, for human beings. Basic GET\r\n",
      "    usage:\r\n",
      "    \r\n",
      "       >>> import requests\r\n",
      "       >>> r = requests.get('https://www.python.org')\r\n",
      "       >>> r.status_code\r\n",
      "       200\r\n",
      "       >>> 'Python is a programming language' in r.content\r\n",
      "       True\r\n",
      "    \r\n",
      "    ... or POST:\r\n",
      "    \r\n",
      "       >>> payload = dict(key1='value1', key2='value2')\r\n",
      "       >>> r = requests.post('http://httpbin.org/post', data=payload)\r\n",
      "       >>> print(r.text)\r\n",
      "       {\r\n",
      "         ...\r\n",
      "         \"form\": {\r\n",
      "           \"key2\": \"value2\",\r\n",
      "           \"key1\": \"value1\"\r\n",
      "         },\r\n",
      "         ...\r\n",
      "       }\r\n",
      "    \r\n",
      "    The other HTTP methods are supported - see `requests.api`. Full documentation\r\n",
      "    is at <http://python-requests.org>.\r\n",
      "    \r\n",
      "    :copyright: (c) 2017 by Kenneth Reitz.\r\n",
      "    :license: Apache 2.0, see LICENSE for more details.\r\n",
      "\r\n",
      "P\bPA\bAC\bCK\bKA\bAG\bGE\bE \b C\bCO\bON\bNT\bTE\bEN\bNT\bTS\bS\r\n",
      "    __version__\r\n",
      "    _internal_utils\r\n",
      "    adapters\r\n",
      "    api\r\n",
      "    auth\r\n",
      "    certs\r\n",
      "    compat\r\n",
      "    cookies\r\n",
      "    exceptions\r\n",
      "    help\r\n",
      "    hooks\r\n",
      "    models\r\n",
      "    packages\r\n",
      "    sessions\r\n",
      "    status_codes\r\n",
      "    structures\r\n",
      "    utils\r\n",
      "\r\n",
      "F\bFU\bUN\bNC\bCT\bTI\bIO\bON\bNS\bS\r\n",
      "    c\bch\bhe\bec\bck\bk_\b_c\bco\bom\bmp\bpa\bat\bti\bib\bbi\bil\bli\bit\bty\by(urllib3_version, chardet_version)\r\n",
      "\r\n",
      "D\bDA\bAT\bTA\bA\r\n",
      "    _\b__\b_a\bau\but\bth\bho\bor\br_\b_e\bem\bma\bai\bil\bl_\b__\b_ = 'me@kennethreitz.org'\r\n",
      "    _\b__\b_b\bbu\bui\bil\bld\bd_\b__\b_ = 137473\r\n",
      "    _\b__\b_c\bca\bak\bke\be_\b__\b_ = '✨ 🍰 ✨'\r\n",
      "    _\b__\b_c\bco\bop\bpy\byr\bri\big\bgh\bht\bt_\b__\b_ = 'Copyright 2018 Kenneth Reitz'\r\n",
      "    _\b__\b_d\bde\bes\bsc\bcr\bri\bip\bpt\bti\bio\bon\bn_\b__\b_ = 'Python HTTP for Humans.'\r\n",
      "    _\b__\b_l\bli\bic\bce\ben\bns\bse\be_\b__\b_ = 'Apache 2.0'\r\n",
      "    _\b__\b_t\bti\bit\btl\ble\be_\b__\b_ = 'requests'\r\n",
      "    _\b__\b_u\bur\brl\bl_\b__\b_ = 'http://python-requests.org'\r\n",
      "    c\bco\bod\bde\bes\bs = <lookup 'status_codes'>\r\n",
      "\r\n",
      "V\bVE\bER\bRS\bSI\bIO\bON\bN\r\n",
      "    2.19.1\r\n",
      "\r\n",
      "A\bAU\bUT\bTH\bHO\bOR\bR\r\n",
      "    Kenneth Reitz\r\n",
      "\r\n",
      "F\bFI\bIL\bLE\bE\r\n",
      "    /usr/local/lib/python3.7/site-packages/requests/__init__.py\r\n",
      "\r\n",
      "\r\n"
     ]
    }
   ],
   "source": [
    "! pydoc3 requests"
   ]
  },
  {
   "cell_type": "markdown",
   "metadata": {
    "slideshow": {
     "slide_type": "slide"
    }
   },
   "source": [
    "You can also look at classes of a package as just like you would call that class"
   ]
  },
  {
   "cell_type": "code",
   "execution_count": 11,
   "metadata": {
    "slideshow": {
     "slide_type": "slide"
    }
   },
   "outputs": [
    {
     "name": "stdout",
     "output_type": "stream",
     "text": [
      "Help on function get in requests:\r\n",
      "\r\n",
      "r\bre\beq\bqu\bue\bes\bst\bts\bs.\b.g\bge\bet\bt = get(url, params=None, **kwargs)\r\n",
      "    Sends a GET request.\r\n",
      "    \r\n",
      "    :param url: URL for the new :class:`Request` object.\r\n",
      "    :param params: (optional) Dictionary or bytes to be sent in the query string for the :class:`Request`.\r\n",
      "    :param \\*\\*kwargs: Optional arguments that ``request`` takes.\r\n",
      "    :return: :class:`Response <Response>` object\r\n",
      "    :rtype: requests.Response\r\n",
      "\r\n"
     ]
    }
   ],
   "source": [
    "! pydoc3 requests.get"
   ]
  },
  {
   "cell_type": "code",
   "execution_count": 12,
   "metadata": {
    "slideshow": {
     "slide_type": "slide"
    }
   },
   "outputs": [
    {
     "name": "stdout",
     "output_type": "stream",
     "text": [
      "Help on module requests.sessions in requests:\r\n",
      "\r\n",
      "N\bNA\bAM\bME\bE\r\n",
      "    requests.sessions\r\n",
      "\r\n",
      "D\bDE\bES\bSC\bCR\bRI\bIP\bPT\bTI\bIO\bON\bN\r\n",
      "    requests.session\r\n",
      "    ~~~~~~~~~~~~~~~~\r\n",
      "    \r\n",
      "    This module provides a Session object to manage and persist settings across\r\n",
      "    requests (cookies, auth, proxies).\r\n",
      "\r\n",
      "C\bCL\bLA\bAS\bSS\bSE\bES\bS\r\n",
      "    builtins.object\r\n",
      "        SessionRedirectMixin\r\n",
      "            Session\r\n",
      "    \r\n",
      "    class S\bSe\bes\bss\bsi\bio\bon\bn(SessionRedirectMixin)\r\n",
      "     |  A Requests session.\r\n",
      "     |  \r\n",
      "     |  Provides cookie persistence, connection-pooling, and configuration.\r\n",
      "     |  \r\n",
      "     |  Basic Usage::\r\n",
      "     |  \r\n",
      "     |    >>> import requests\r\n",
      "     |    >>> s = requests.Session()\r\n",
      "     |    >>> s.get('http://httpbin.org/get')\r\n",
      "     |    <Response [200]>\r\n",
      "     |  \r\n",
      "     |  Or as a context manager::\r\n",
      "     |  \r\n",
      "     |    >>> with requests.Session() as s:\r\n",
      "     |    >>>     s.get('http://httpbin.org/get')\r\n",
      "     |    <Response [200]>\r\n",
      "     |  \r\n",
      "     |  Method resolution order:\r\n",
      "     |      Session\r\n",
      "     |      SessionRedirectMixin\r\n",
      "     |      builtins.object\r\n",
      "     |  \r\n",
      "     |  Methods defined here:\r\n",
      "     |  \r\n",
      "     |  _\b__\b_e\ben\bnt\bte\ber\br_\b__\b_(self)\r\n",
      "     |  \r\n",
      "     |  _\b__\b_e\bex\bxi\bit\bt_\b__\b_(self, *args)\r\n",
      "     |  \r\n",
      "     |  _\b__\b_g\bge\bet\bts\bst\bta\bat\bte\be_\b__\b_(self)\r\n",
      "     |  \r\n",
      "     |  _\b__\b_i\bin\bni\bit\bt_\b__\b_(self)\r\n",
      "     |      Initialize self.  See help(type(self)) for accurate signature.\r\n",
      "     |  \r\n",
      "     |  _\b__\b_s\bse\bet\bts\bst\bta\bat\bte\be_\b__\b_(self, state)\r\n",
      "     |  \r\n",
      "     |  c\bcl\blo\bos\bse\be(self)\r\n",
      "     |      Closes all adapters and as such the session\r\n",
      "     |  \r\n",
      "     |  d\bde\bel\ble\bet\bte\be(self, url, **kwargs)\r\n",
      "     |      Sends a DELETE request. Returns :class:`Response` object.\r\n",
      "     |      \r\n",
      "     |      :param url: URL for the new :class:`Request` object.\r\n",
      "     |      :param \\*\\*kwargs: Optional arguments that ``request`` takes.\r\n",
      "     |      :rtype: requests.Response\r\n",
      "     |  \r\n",
      "     |  g\bge\bet\bt(self, url, **kwargs)\r\n",
      "     |      Sends a GET request. Returns :class:`Response` object.\r\n",
      "     |      \r\n",
      "     |      :param url: URL for the new :class:`Request` object.\r\n",
      "     |      :param \\*\\*kwargs: Optional arguments that ``request`` takes.\r\n",
      "     |      :rtype: requests.Response\r\n",
      "     |  \r\n",
      "     |  g\bge\bet\bt_\b_a\bad\bda\bap\bpt\bte\ber\br(self, url)\r\n",
      "     |      Returns the appropriate connection adapter for the given URL.\r\n",
      "     |      \r\n",
      "     |      :rtype: requests.adapters.BaseAdapter\r\n",
      "     |  \r\n",
      "     |  h\bhe\bea\bad\bd(self, url, **kwargs)\r\n",
      "     |      Sends a HEAD request. Returns :class:`Response` object.\r\n",
      "     |      \r\n",
      "     |      :param url: URL for the new :class:`Request` object.\r\n",
      "     |      :param \\*\\*kwargs: Optional arguments that ``request`` takes.\r\n",
      "     |      :rtype: requests.Response\r\n",
      "     |  \r\n",
      "     |  m\bme\ber\brg\bge\be_\b_e\ben\bnv\bvi\bir\bro\bon\bnm\bme\ben\bnt\bt_\b_s\bse\bet\btt\bti\bin\bng\bgs\bs(self, url, proxies, stream, verify, cert)\r\n",
      "     |      Check the environment and merge it with some settings.\r\n",
      "     |      \r\n",
      "     |      :rtype: dict\r\n",
      "     |  \r\n",
      "     |  m\bmo\bou\bun\bnt\bt(self, prefix, adapter)\r\n",
      "     |      Registers a connection adapter to a prefix.\r\n",
      "     |      \r\n",
      "     |      Adapters are sorted in descending order by prefix length.\r\n",
      "     |  \r\n",
      "     |  o\bop\bpt\bti\bio\bon\bns\bs(self, url, **kwargs)\r\n",
      "     |      Sends a OPTIONS request. Returns :class:`Response` object.\r\n",
      "     |      \r\n",
      "     |      :param url: URL for the new :class:`Request` object.\r\n",
      "     |      :param \\*\\*kwargs: Optional arguments that ``request`` takes.\r\n",
      "     |      :rtype: requests.Response\r\n",
      "     |  \r\n",
      "     |  p\bpa\bat\btc\bch\bh(self, url, data=None, **kwargs)\r\n",
      "     |      Sends a PATCH request. Returns :class:`Response` object.\r\n",
      "     |      \r\n",
      "     |      :param url: URL for the new :class:`Request` object.\r\n",
      "     |      :param data: (optional) Dictionary, bytes, or file-like object to send in the body of the :class:`Request`.\r\n",
      "     |      :param \\*\\*kwargs: Optional arguments that ``request`` takes.\r\n",
      "     |      :rtype: requests.Response\r\n",
      "     |  \r\n",
      "     |  p\bpo\bos\bst\bt(self, url, data=None, json=None, **kwargs)\r\n",
      "     |      Sends a POST request. Returns :class:`Response` object.\r\n",
      "     |      \r\n",
      "     |      :param url: URL for the new :class:`Request` object.\r\n",
      "     |      :param data: (optional) Dictionary, bytes, or file-like object to send in the body of the :class:`Request`.\r\n",
      "     |      :param json: (optional) json to send in the body of the :class:`Request`.\r\n",
      "     |      :param \\*\\*kwargs: Optional arguments that ``request`` takes.\r\n",
      "     |      :rtype: requests.Response\r\n",
      "     |  \r\n",
      "     |  p\bpr\bre\bep\bpa\bar\bre\be_\b_r\bre\beq\bqu\bue\bes\bst\bt(self, request)\r\n",
      "     |      Constructs a :class:`PreparedRequest <PreparedRequest>` for\r\n",
      "     |      transmission and returns it. The :class:`PreparedRequest` has settings\r\n",
      "     |      merged from the :class:`Request <Request>` instance and those of the\r\n",
      "     |      :class:`Session`.\r\n",
      "     |      \r\n",
      "     |      :param request: :class:`Request` instance to prepare with this\r\n",
      "     |          session's settings.\r\n",
      "     |      :rtype: requests.PreparedRequest\r\n",
      "     |  \r\n",
      "     |  p\bpu\but\bt(self, url, data=None, **kwargs)\r\n",
      "     |      Sends a PUT request. Returns :class:`Response` object.\r\n",
      "     |      \r\n",
      "     |      :param url: URL for the new :class:`Request` object.\r\n",
      "     |      :param data: (optional) Dictionary, bytes, or file-like object to send in the body of the :class:`Request`.\r\n",
      "     |      :param \\*\\*kwargs: Optional arguments that ``request`` takes.\r\n",
      "     |      :rtype: requests.Response\r\n",
      "     |  \r\n",
      "     |  r\bre\beq\bqu\bue\bes\bst\bt(self, method, url, params=None, data=None, headers=None, cookies=None, files=None, auth=None, timeout=None, allow_redirects=True, proxies=None, hooks=None, stream=None, verify=None, cert=None, json=None)\r\n",
      "     |      Constructs a :class:`Request <Request>`, prepares it and sends it.\r\n",
      "     |      Returns :class:`Response <Response>` object.\r\n",
      "     |      \r\n",
      "     |      :param method: method for the new :class:`Request` object.\r\n",
      "     |      :param url: URL for the new :class:`Request` object.\r\n",
      "     |      :param params: (optional) Dictionary or bytes to be sent in the query\r\n",
      "     |          string for the :class:`Request`.\r\n",
      "     |      :param data: (optional) Dictionary, bytes, or file-like object to send\r\n",
      "     |          in the body of the :class:`Request`.\r\n",
      "     |      :param json: (optional) json to send in the body of the\r\n",
      "     |          :class:`Request`.\r\n",
      "     |      :param headers: (optional) Dictionary of HTTP Headers to send with the\r\n",
      "     |          :class:`Request`.\r\n",
      "     |      :param cookies: (optional) Dict or CookieJar object to send with the\r\n",
      "     |          :class:`Request`.\r\n",
      "     |      :param files: (optional) Dictionary of ``'filename': file-like-objects``\r\n",
      "     |          for multipart encoding upload.\r\n",
      "     |      :param auth: (optional) Auth tuple or callable to enable\r\n",
      "     |          Basic/Digest/Custom HTTP Auth.\r\n",
      "     |      :param timeout: (optional) How long to wait for the server to send\r\n",
      "     |          data before giving up, as a float, or a :ref:`(connect timeout,\r\n",
      "     |          read timeout) <timeouts>` tuple.\r\n",
      "     |      :type timeout: float or tuple\r\n",
      "     |      :param allow_redirects: (optional) Set to True by default.\r\n",
      "     |      :type allow_redirects: bool\r\n",
      "     |      :param proxies: (optional) Dictionary mapping protocol or protocol and\r\n",
      "     |          hostname to the URL of the proxy.\r\n",
      "     |      :param stream: (optional) whether to immediately download the response\r\n",
      "     |          content. Defaults to ``False``.\r\n",
      "     |      :param verify: (optional) Either a boolean, in which case it controls whether we verify\r\n",
      "     |          the server's TLS certificate, or a string, in which case it must be a path\r\n",
      "     |          to a CA bundle to use. Defaults to ``True``.\r\n",
      "     |      :param cert: (optional) if String, path to ssl client cert file (.pem).\r\n",
      "     |          If Tuple, ('cert', 'key') pair.\r\n",
      "     |      :rtype: requests.Response\r\n",
      "     |  \r\n",
      "     |  s\bse\ben\bnd\bd(self, request, **kwargs)\r\n",
      "     |      Send a given PreparedRequest.\r\n",
      "     |      \r\n",
      "     |      :rtype: requests.Response\r\n",
      "     |  \r\n",
      "     |  ----------------------------------------------------------------------\r\n",
      "     |  Data and other attributes defined here:\r\n",
      "     |  \r\n",
      "     |  _\b__\b_a\bat\btt\btr\brs\bs_\b__\b_ = ['headers', 'cookies', 'auth', 'proxies', 'hooks', 'params...\r\n",
      "     |  \r\n",
      "     |  ----------------------------------------------------------------------\r\n",
      "     |  Methods inherited from SessionRedirectMixin:\r\n",
      "     |  \r\n",
      "     |  g\bge\bet\bt_\b_r\bre\bed\bdi\bir\bre\bec\bct\bt_\b_t\bta\bar\brg\bge\bet\bt(self, resp)\r\n",
      "     |      Receives a Response. Returns a redirect URI or ``None``\r\n",
      "     |  \r\n",
      "     |  r\bre\beb\bbu\bui\bil\bld\bd_\b_a\bau\but\bth\bh(self, prepared_request, response)\r\n",
      "     |      When being redirected we may want to strip authentication from the\r\n",
      "     |      request to avoid leaking credentials. This method intelligently removes\r\n",
      "     |      and reapplies authentication where possible to avoid credential loss.\r\n",
      "     |  \r\n",
      "     |  r\bre\beb\bbu\bui\bil\bld\bd_\b_m\bme\bet\bth\bho\bod\bd(self, prepared_request, response)\r\n",
      "     |      When being redirected we may want to change the method of the request\r\n",
      "     |      based on certain specs or browser behavior.\r\n",
      "     |  \r\n",
      "     |  r\bre\beb\bbu\bui\bil\bld\bd_\b_p\bpr\bro\box\bxi\bie\bes\bs(self, prepared_request, proxies)\r\n",
      "     |      This method re-evaluates the proxy configuration by considering the\r\n",
      "     |      environment variables. If we are redirected to a URL covered by\r\n",
      "     |      NO_PROXY, we strip the proxy configuration. Otherwise, we set missing\r\n",
      "     |      proxy keys for this URL (in case they were stripped by a previous\r\n",
      "     |      redirect).\r\n",
      "     |      \r\n",
      "     |      This method also replaces the Proxy-Authorization header where\r\n",
      "     |      necessary.\r\n",
      "     |      \r\n",
      "     |      :rtype: dict\r\n",
      "     |  \r\n",
      "     |  r\bre\bes\bso\bol\blv\bve\be_\b_r\bre\bed\bdi\bir\bre\bec\bct\bts\bs(self, resp, req, stream=False, timeout=None, verify=True, cert=None, proxies=None, yield_requests=False, **adapter_kwargs)\r\n",
      "     |      Receives a Response. Returns a generator of Responses or Requests.\r\n",
      "     |  \r\n",
      "     |  ----------------------------------------------------------------------\r\n",
      "     |  Data descriptors inherited from SessionRedirectMixin:\r\n",
      "     |  \r\n",
      "     |  _\b__\b_d\bdi\bic\bct\bt_\b__\b_\r\n",
      "     |      dictionary for instance variables (if defined)\r\n",
      "     |  \r\n",
      "     |  _\b__\b_w\bwe\bea\bak\bkr\bre\bef\bf_\b__\b_\r\n",
      "     |      list of weak references to the object (if defined)\r\n",
      "    \r\n",
      "    class S\bSe\bes\bss\bsi\bio\bon\bnR\bRe\bed\bdi\bir\bre\bec\bct\btM\bMi\bix\bxi\bin\bn(builtins.object)\r\n",
      "     |  Methods defined here:\r\n",
      "     |  \r\n",
      "     |  g\bge\bet\bt_\b_r\bre\bed\bdi\bir\bre\bec\bct\bt_\b_t\bta\bar\brg\bge\bet\bt(self, resp)\r\n",
      "     |      Receives a Response. Returns a redirect URI or ``None``\r\n",
      "     |  \r\n",
      "     |  r\bre\beb\bbu\bui\bil\bld\bd_\b_a\bau\but\bth\bh(self, prepared_request, response)\r\n",
      "     |      When being redirected we may want to strip authentication from the\r\n",
      "     |      request to avoid leaking credentials. This method intelligently removes\r\n",
      "     |      and reapplies authentication where possible to avoid credential loss.\r\n",
      "     |  \r\n",
      "     |  r\bre\beb\bbu\bui\bil\bld\bd_\b_m\bme\bet\bth\bho\bod\bd(self, prepared_request, response)\r\n",
      "     |      When being redirected we may want to change the method of the request\r\n",
      "     |      based on certain specs or browser behavior.\r\n",
      "     |  \r\n",
      "     |  r\bre\beb\bbu\bui\bil\bld\bd_\b_p\bpr\bro\box\bxi\bie\bes\bs(self, prepared_request, proxies)\r\n",
      "     |      This method re-evaluates the proxy configuration by considering the\r\n",
      "     |      environment variables. If we are redirected to a URL covered by\r\n",
      "     |      NO_PROXY, we strip the proxy configuration. Otherwise, we set missing\r\n",
      "     |      proxy keys for this URL (in case they were stripped by a previous\r\n",
      "     |      redirect).\r\n",
      "     |      \r\n",
      "     |      This method also replaces the Proxy-Authorization header where\r\n",
      "     |      necessary.\r\n",
      "     |      \r\n",
      "     |      :rtype: dict\r\n",
      "     |  \r\n",
      "     |  r\bre\bes\bso\bol\blv\bve\be_\b_r\bre\bed\bdi\bir\bre\bec\bct\bts\bs(self, resp, req, stream=False, timeout=None, verify=True, cert=None, proxies=None, yield_requests=False, **adapter_kwargs)\r\n",
      "     |      Receives a Response. Returns a generator of Responses or Requests.\r\n",
      "     |  \r\n",
      "     |  ----------------------------------------------------------------------\r\n",
      "     |  Data descriptors defined here:\r\n",
      "     |  \r\n",
      "     |  _\b__\b_d\bdi\bic\bct\bt_\b__\b_\r\n",
      "     |      dictionary for instance variables (if defined)\r\n",
      "     |  \r\n",
      "     |  _\b__\b_w\bwe\bea\bak\bkr\bre\bef\bf_\b__\b_\r\n",
      "     |      list of weak references to the object (if defined)\r\n",
      "\r\n",
      "F\bFU\bUN\bNC\bCT\bTI\bIO\bON\bNS\bS\r\n",
      "    m\bme\ber\brg\bge\be_\b_h\bho\boo\bok\bks\bs(request_hooks, session_hooks, dict_class=<class 'collections.OrderedDict'>)\r\n",
      "        Properly merges both requests and session hooks.\r\n",
      "        \r\n",
      "        This is necessary because when request_hooks == {'response': []}, the\r\n",
      "        merge breaks Session hooks entirely.\r\n",
      "    \r\n",
      "    m\bme\ber\brg\bge\be_\b_s\bse\bet\btt\bti\bin\bng\bg(request_setting, session_setting, dict_class=<class 'collections.OrderedDict'>)\r\n",
      "        Determines appropriate setting for a given request, taking into account\r\n",
      "        the explicit setting on that request, and the setting in the session. If a\r\n",
      "        setting is a dictionary, they will be merged together using `dict_class`\r\n",
      "    \r\n",
      "    p\bpr\bre\bef\bfe\ber\brr\bre\bed\bd_\b_c\bcl\blo\boc\bck\bk = time(...)\r\n",
      "        time() -> floating point number\r\n",
      "        \r\n",
      "        Return the current time in seconds since the Epoch.\r\n",
      "        Fractions of a second may be present if the system clock provides them.\r\n",
      "    \r\n",
      "    s\bse\bes\bss\bsi\bio\bon\bn()\r\n",
      "        Returns a :class:`Session` for context-management.\r\n",
      "        \r\n",
      "        :rtype: Session\r\n",
      "\r\n",
      "D\bDA\bAT\bTA\bA\r\n",
      "    D\bDE\bEF\bFA\bAU\bUL\bLT\bT_\b_R\bRE\bED\bDI\bIR\bRE\bEC\bCT\bT_\b_L\bLI\bIM\bMI\bIT\bT = 30\r\n",
      "    R\bRE\bED\bDI\bIR\bRE\bEC\bCT\bT_\b_S\bST\bTA\bAT\bTI\bI = (301, 302, 303, 307, 308)\r\n",
      "    c\bco\bod\bde\bes\bs = <lookup 'status_codes'>\r\n",
      "    i\bis\bs_\b_p\bpy\by3\b3 = True\r\n",
      "\r\n",
      "F\bFI\bIL\bLE\bE\r\n",
      "    /usr/local/lib/python3.7/site-packages/requests/sessions.py\r\n",
      "\r\n",
      "\r\n"
     ]
    }
   ],
   "source": [
    "! pydoc3 requests.sessions"
   ]
  },
  {
   "cell_type": "markdown",
   "metadata": {
    "slideshow": {
     "slide_type": "slide"
    }
   },
   "source": [
    "You can also run a pydoc server with the command `pydoc -b`. This is more user friendly as it opens in a browser and you can point and click or just have it open when you are coding. "
   ]
  },
  {
   "cell_type": "markdown",
   "metadata": {
    "slideshow": {
     "slide_type": "slide"
    }
   },
   "source": [
    "That is all folks!"
   ]
  }
 ],
 "metadata": {
  "celltoolbar": "Slideshow",
  "kernelspec": {
   "display_name": "Python 3",
   "language": "python",
   "name": "python3"
  },
  "language_info": {
   "codemirror_mode": {
    "name": "ipython",
    "version": 3
   },
   "file_extension": ".py",
   "mimetype": "text/x-python",
   "name": "python",
   "nbconvert_exporter": "python",
   "pygments_lexer": "ipython3",
   "version": "3.7.0"
  }
 },
 "nbformat": 4,
 "nbformat_minor": 2
}

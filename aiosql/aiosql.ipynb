{
 "cells": [
  {
   "cell_type": "code",
   "execution_count": 40,
   "source": [
    "import aiosql\r\n",
    "import sqlite3\r\n",
    "import datetime as dt\r\n",
    "import pprint as pp\r\n",
    "# Connect to sqlite and enable auto commit\r\n",
    "conn = sqlite3.connect(\"example.db\", isolation_level=None)\r\n",
    "conn.row_factory = sqlite3.Row"
   ],
   "outputs": [],
   "metadata": {}
  },
  {
   "cell_type": "code",
   "execution_count": 20,
   "source": [
    "queries = aiosql.from_path(\"sql/\", \"sqlite3\")"
   ],
   "outputs": [],
   "metadata": {}
  },
  {
   "cell_type": "markdown",
   "source": [
    "## Create Schema\r\n",
    "\r\n",
    "Using the `#` operator you can execute sql statements as a script\r\n",
    "\r\n",
    "> Note: Variable substitution is not possible "
   ],
   "metadata": {}
  },
  {
   "cell_type": "code",
   "execution_count": 3,
   "source": [
    "help(queries.create_schema)"
   ],
   "outputs": [
    {
     "output_type": "stream",
     "name": "stdout",
     "text": [
      "Help on method create_schema in module aiosql.queries:\n",
      "\n",
      "create_schema(conn, *args, **kwargs) method of aiosql.queries.Queries instance\n",
      "    Create table schema of users and blog in db\n",
      "\n"
     ]
    }
   ],
   "metadata": {}
  },
  {
   "cell_type": "code",
   "execution_count": 4,
   "source": [
    "queries.create_schema(conn)"
   ],
   "outputs": [
    {
     "output_type": "execute_result",
     "data": {
      "text/plain": [
       "'DONE'"
      ]
     },
     "metadata": {},
     "execution_count": 4
    }
   ],
   "metadata": {}
  },
  {
   "cell_type": "markdown",
   "source": [
    "## Insert some data "
   ],
   "metadata": {}
  },
  {
   "cell_type": "markdown",
   "source": [
    "Let's insert a single user into the database using the `!` operator"
   ],
   "metadata": {}
  },
  {
   "cell_type": "code",
   "execution_count": 5,
   "source": [
    "queries.add_user(conn, **{\"username\": \"badger77\", \"firstname\": \"Mike\", \"lastname\": \"Jones\"})"
   ],
   "outputs": [],
   "metadata": {}
  },
  {
   "cell_type": "markdown",
   "source": [
    "Or insert a user and get the row id using the `<!` operator"
   ],
   "metadata": {}
  },
  {
   "cell_type": "code",
   "execution_count": 6,
   "source": [
    "userid = queries.add_user2(conn, **{\"username\": \"honeybadger77\", \"firstname\": \"Micheal\", \"lastname\": \"Klandor\"})\r\n",
    "\r\n",
    "print(userid)"
   ],
   "outputs": [
    {
     "output_type": "stream",
     "name": "stdout",
     "text": [
      "2\n"
     ]
    }
   ],
   "metadata": {}
  },
  {
   "cell_type": "markdown",
   "source": [
    "Now lets add some blogs"
   ],
   "metadata": {}
  },
  {
   "cell_type": "code",
   "execution_count": 7,
   "source": [
    "blogid = queries.publish_blog2(conn, userid=userid, title=\"Hi\", content=\"blah blah.\")\r\n",
    "\r\n",
    "print(blogid)"
   ],
   "outputs": [
    {
     "output_type": "stream",
     "name": "stdout",
     "text": [
      "1\n"
     ]
    }
   ],
   "metadata": {}
  },
  {
   "cell_type": "markdown",
   "source": [
    "Let's publish some blogs in bulk"
   ],
   "metadata": {}
  },
  {
   "cell_type": "code",
   "execution_count": 16,
   "source": [
    "blogs = [\r\n",
    "    {\"userid\": 1, \"title\": \"First Blog\", \"content\": \"...\", \"published\": dt.datetime(2018, 1, 1)},\r\n",
    "    {\"userid\": 1, \"title\": \"Next Blog\", \"content\": \"...\", \"published\": dt.datetime(2018, 1, 2)},\r\n",
    "    {\"userid\": 2, \"title\": \"Hey, Hey!\", \"content\": \"...\", \"published\": dt.datetime(2018, 7, 28)},\r\n",
    "    {\"userid\": 2, \"title\": \"adipiscing fringilla\", \"content\": \"porttitor vulputate, posuere vulputate, lacus. Cras interdum.\", \"published\": dt.datetime(2018, 7, 28)},\r\n",
    "    {\"userid\": 2, \"title\": \"adipiscing fringilla\", \"content\": \"porttitor vulputate, posuere vulputate, lacus. Cras interdum.\", \"published\": dt.datetime(2018, 7, 28)},\r\n",
    "    {\"userid\": 2, \"title\": \"porttitor vulputate\", \"content\": \"posuere vulputate, lacus. Cras interdum.\", \"published\": dt.datetime(2018, 7, 28)}\r\n",
    "]\r\n",
    "\r\n",
    "queries.bulk_publish(conn, blogs)"
   ],
   "outputs": [],
   "metadata": {}
  },
  {
   "cell_type": "markdown",
   "source": [
    "## Query some Data"
   ],
   "metadata": {}
  },
  {
   "cell_type": "code",
   "execution_count": 8,
   "source": [
    "queries.get_user_count(conn)"
   ],
   "outputs": [
    {
     "output_type": "execute_result",
     "data": {
      "text/plain": [
       "2"
      ]
     },
     "metadata": {},
     "execution_count": 8
    }
   ],
   "metadata": {}
  },
  {
   "cell_type": "code",
   "execution_count": 44,
   "source": [
    "users = queries.get_users(conn)\r\n",
    "\r\n",
    "pp.pprint(list(map(dict, users)), indent=2, compact=True, width=120)"
   ],
   "outputs": [
    {
     "output_type": "stream",
     "name": "stdout",
     "text": [
      "[ {'firstname': 'Mike', 'lastname': 'Jones', 'userid': 1, 'username': 'badger77'},\n",
      "  {'firstname': 'Micheal', 'lastname': 'Klandor', 'userid': 2, 'username': 'honeybadger77'}]\n"
     ]
    }
   ],
   "metadata": {}
  },
  {
   "cell_type": "code",
   "execution_count": 21,
   "source": [
    "queries.get_blog_count(conn)"
   ],
   "outputs": [
    {
     "output_type": "execute_result",
     "data": {
      "text/plain": [
       "7"
      ]
     },
     "metadata": {},
     "execution_count": 21
    }
   ],
   "metadata": {}
  },
  {
   "cell_type": "code",
   "execution_count": 46,
   "source": [
    "blogs = queries.get_blogs(conn)\r\n",
    "\r\n",
    "pp.pprint(list(map(dict, blogs)), indent=2, width=120)"
   ],
   "outputs": [
    {
     "output_type": "stream",
     "name": "stdout",
     "text": [
      "[ {'blogid': 1, 'content': 'blah blah.', 'published': '2021-10-11', 'title': 'Hi', 'userid': 2},\n",
      "  {'blogid': 2, 'content': '...', 'published': '2018-01-01 00:00:00', 'title': 'First Blog', 'userid': 1},\n",
      "  {'blogid': 3, 'content': '...', 'published': '2018-01-02 00:00:00', 'title': 'Next Blog', 'userid': 1},\n",
      "  {'blogid': 4, 'content': '...', 'published': '2018-07-28 00:00:00', 'title': 'Hey, Hey!', 'userid': 2},\n",
      "  { 'blogid': 5,\n",
      "    'content': 'porttitor vulputate, posuere vulputate, lacus. Cras interdum.',\n",
      "    'published': '2018-07-28 00:00:00',\n",
      "    'title': 'adipiscing fringilla',\n",
      "    'userid': 2},\n",
      "  { 'blogid': 6,\n",
      "    'content': 'porttitor vulputate, posuere vulputate, lacus. Cras interdum.',\n",
      "    'published': '2018-07-28 00:00:00',\n",
      "    'title': 'adipiscing fringilla',\n",
      "    'userid': 2},\n",
      "  { 'blogid': 7,\n",
      "    'content': 'posuere vulputate, lacus. Cras interdum.',\n",
      "    'published': '2018-07-28 00:00:00',\n",
      "    'title': 'porttitor vulputate',\n",
      "    'userid': 2}]\n"
     ]
    }
   ],
   "metadata": {}
  },
  {
   "cell_type": "markdown",
   "source": [
    "## Load and Run query from string"
   ],
   "metadata": {}
  },
  {
   "cell_type": "code",
   "execution_count": 49,
   "source": [
    "sql_str = \"\"\"\r\n",
    "\r\n",
    "-- name: get_user_blogs\r\n",
    "-- Get blogs with a fancy formatted published date and author field\r\n",
    "    select b.blogid,\r\n",
    "           b.title,\r\n",
    "           strftime('%Y-%m-%d %H:%M', b.published) as published,\r\n",
    "           u.username as author\r\n",
    "      from blogs b\r\n",
    "inner join users u on b.userid = u.userid\r\n",
    "     where u.username = :username\r\n",
    "  order by b.published desc;\r\n",
    "\"\"\"\r\n",
    "\r\n",
    "qstr = aiosql.from_str(sql_str, \"sqlite3\")"
   ],
   "outputs": [],
   "metadata": {}
  },
  {
   "cell_type": "code",
   "execution_count": 51,
   "source": [
    "user_blogs = qstr.get_user_blogs(conn, username=\"honeybadger77\")\r\n",
    "pp.pprint(list(map(dict, user_blogs)), indent=2, width=120)"
   ],
   "outputs": [
    {
     "output_type": "stream",
     "name": "stdout",
     "text": [
      "[ {'author': 'honeybadger77', 'blogid': 1, 'published': '2021-10-11 00:00', 'title': 'Hi'},\n",
      "  {'author': 'honeybadger77', 'blogid': 4, 'published': '2018-07-28 00:00', 'title': 'Hey, Hey!'},\n",
      "  {'author': 'honeybadger77', 'blogid': 5, 'published': '2018-07-28 00:00', 'title': 'adipiscing fringilla'},\n",
      "  {'author': 'honeybadger77', 'blogid': 6, 'published': '2018-07-28 00:00', 'title': 'adipiscing fringilla'},\n",
      "  {'author': 'honeybadger77', 'blogid': 7, 'published': '2018-07-28 00:00', 'title': 'porttitor vulputate'}]\n"
     ]
    }
   ],
   "metadata": {}
  }
 ],
 "metadata": {
  "orig_nbformat": 4,
  "language_info": {
   "name": "python",
   "version": "3.9.6",
   "mimetype": "text/x-python",
   "codemirror_mode": {
    "name": "ipython",
    "version": 3
   },
   "pygments_lexer": "ipython3",
   "nbconvert_exporter": "python",
   "file_extension": ".py"
  },
  "kernelspec": {
   "name": "python3",
   "display_name": "Python 3.9.6 64-bit ('.venv': venv)"
  },
  "interpreter": {
   "hash": "417d93835e0fa4245a5f4619fde42e24cac5a2616e9d33b8c9e02e0a39bbe7aa"
  }
 },
 "nbformat": 4,
 "nbformat_minor": 2
}
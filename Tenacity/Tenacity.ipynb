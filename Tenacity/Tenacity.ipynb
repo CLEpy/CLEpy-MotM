{
 "cells": [
  {
   "cell_type": "markdown",
   "metadata": {
    "slideshow": {
     "slide_type": "slide"
    }
   },
   "source": [
    "# [Tenacity](https://tenacity.readthedocs.io/)\n",
    "[https://tenacity.readthedocs.io/](https://tenacity.readthedocs.io/)\n",
    "\n",
    "## CLEPY - February Module of the Month\n",
    "### David Thomas\n",
    "### [dev@synth3.tk](mailto://dev@synth3.tk)"
   ]
  },
  {
   "cell_type": "markdown",
   "metadata": {
    "slideshow": {
     "slide_type": "slide"
    }
   },
   "source": [
    "## What is Tenacity?\n",
    "- A \"general-purpose retrying library\", forked from... retrying\n",
    "- Extremely configurable\n",
    "- Not a city for people with tentacles"
   ]
  },
  {
   "cell_type": "markdown",
   "metadata": {
    "slideshow": {
     "slide_type": "slide"
    }
   },
   "source": [
    "## Features - Sell It To Me\n",
    "- It's a decorator! (boogie-woogie woogie)\n",
    "- Set your own stop condition (i.e. by number of attempts)\n",
    "- Specify wait condition\n",
    "- **Combine conditions together!**\n",
    "- Customize retrying on Exceptions or expected result\n",
    "- **Has support for callbacks** (ring ring, hello?)"
   ]
  },
  {
   "cell_type": "markdown",
   "metadata": {
    "slideshow": {
     "slide_type": "slide"
    }
   },
   "source": [
    "## Installation\n",
    "\n",
    "`pip install tenacity`"
   ]
  },
  {
   "cell_type": "markdown",
   "metadata": {
    "slideshow": {
     "slide_type": "slide"
    }
   },
   "source": [
    "## Examples"
   ]
  },
  {
   "cell_type": "markdown",
   "metadata": {
    "slideshow": {
     "slide_type": "slide"
    }
   },
   "source": [
    "**- Basic Retry**"
   ]
  },
  {
   "cell_type": "code",
   "execution_count": null,
   "metadata": {
    "scrolled": true,
    "slideshow": {
     "slide_type": "-"
    }
   },
   "outputs": [],
   "source": [
    "import random\n",
    "from tenacity import retry\n",
    "\n",
    "@retry\n",
    "def do_something_unreliable():\n",
    "    # Pick a number between 0 and 10\n",
    "    if random.randint(0, 10) > 1:\n",
    "        # If it's greater than 1, raise an error\n",
    "        print(\"this number was bad...\")\n",
    "        raise Exception\n",
    "    else:\n",
    "        print(\"...but this one is good! :D\")\n",
    "        return\n",
    "\n",
    "do_something_unreliable()"
   ]
  },
  {
   "cell_type": "markdown",
   "metadata": {
    "slideshow": {
     "slide_type": "slide"
    }
   },
   "source": [
    "**- Stop After (X) Attempts**\n",
    "\n",
    "**- Reraise Exceptions**"
   ]
  },
  {
   "cell_type": "code",
   "execution_count": null,
   "metadata": {
    "slideshow": {
     "slide_type": "-"
    }
   },
   "outputs": [],
   "source": [
    "from tenacity import retry, stop_after_attempt\n",
    "\n",
    "@retry(reraise=True, stop=stop_after_attempt(3))\n",
    "def raise_my_exception():\n",
    "    print(\"Pass me the ball!\")\n",
    "    raise Exception()\n",
    "\n",
    "try:\n",
    "    raise_my_exception()\n",
    "except Exception:\n",
    "    # Ran out of attempts\n",
    "    print(\"Whoa, time out, y'all...\")\n",
    "    pass"
   ]
  },
  {
   "cell_type": "markdown",
   "metadata": {
    "slideshow": {
     "slide_type": "slide"
    }
   },
   "source": [
    "**- Wait Between Attempts**"
   ]
  },
  {
   "cell_type": "code",
   "execution_count": null,
   "metadata": {
    "slideshow": {
     "slide_type": "-"
    }
   },
   "outputs": [],
   "source": [
    "from tenacity import retry, wait_fixed\n",
    "\n",
    "@retry(wait=wait_fixed(3))\n",
    "def wait_3_s():\n",
    "    print(\"Wait 3 seconds between retries\")\n",
    "    raise Exception\n",
    "    \n",
    "wait_3_s()"
   ]
  },
  {
   "cell_type": "markdown",
   "metadata": {
    "slideshow": {
     "slide_type": "slide"
    }
   },
   "source": [
    "# fin."
   ]
  }
 ],
 "metadata": {
  "celltoolbar": "Slideshow",
  "kernelspec": {
   "display_name": "Python 2",
   "language": "python",
   "name": "python2"
  },
  "language_info": {
   "codemirror_mode": {
    "name": "ipython",
    "version": 2
   },
   "file_extension": ".py",
   "mimetype": "text/x-python",
   "name": "python",
   "nbconvert_exporter": "python",
   "pygments_lexer": "ipython2",
   "version": "2.7.15rc1"
  }
 },
 "nbformat": 4,
 "nbformat_minor": 2
}
